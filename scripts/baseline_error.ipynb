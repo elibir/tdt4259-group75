{
 "cells": [
  {
   "cell_type": "code",
   "execution_count": 6,
   "metadata": {},
   "outputs": [],
   "source": [
    "import pandas as pd"
   ]
  },
  {
   "cell_type": "code",
   "execution_count": 7,
   "metadata": {},
   "outputs": [],
   "source": [
    "validation_paths = {\n",
    "    'Trondheim': 'results3/validation_trondheim.csv',\n",
    "    'Tromsø': 'results3/validation_tromsø.csv',\n",
    "    'Stavanger': 'results3/validation_stavanger.csv',\n",
    "    'Oslo': 'results3/validation_oslo.csv',\n",
    "    'Helsingfors': 'results3/validation_helsingfors.csv',\n",
    "    'Bergen': 'results3/validation_bergen.csv'\n",
    "}\n",
    "\n",
    "test_paths = {\n",
    "    'Trondheim': 'results3/test_trondheim.csv',\n",
    "    'Tromsø': 'results3/test_tromsø.csv',\n",
    "    'Stavanger': 'results3/test_stavanger.csv',\n",
    "    'Oslo': 'results3/test_oslo.csv',\n",
    "    'Helsingfors': 'results3/test_helsingfors.csv',\n",
    "    'Bergen': 'results3/test_bergen.csv'\n",
    "}"
   ]
  },
  {
   "cell_type": "code",
   "execution_count": 58,
   "metadata": {},
   "outputs": [
    {
     "name": "stdout",
     "output_type": "stream",
     "text": [
      "                    time  consumption\n",
      "120  2023-03-27 00:00:00     2.594190\n",
      "121  2023-03-27 01:00:00     2.581977\n",
      "122  2023-03-27 02:00:00     2.577724\n",
      "123  2023-03-27 03:00:00     2.611253\n",
      "124  2023-03-27 04:00:00     2.839074\n",
      "---------------------------------\n"
     ]
    },
    {
     "data": {
      "text/plain": [
       "120    0.092311\n",
       "121    0.024406\n",
       "122    0.028131\n",
       "123    0.012309\n",
       "124   -0.193280\n",
       "125   -0.344918\n",
       "126   -0.181673\n",
       "127    0.109725\n",
       "128    0.362721\n",
       "129    0.431770\n",
       "130    0.415670\n",
       "131    0.421819\n",
       "132    0.367516\n",
       "133    0.320271\n",
       "134    0.132222\n",
       "135    0.113798\n",
       "136    0.338832\n",
       "137    0.313017\n",
       "138    0.332898\n",
       "139    0.146990\n",
       "140    0.060333\n",
       "141    0.049293\n",
       "Name: consumption, dtype: float64"
      ]
     },
     "execution_count": 58,
     "metadata": {},
     "output_type": "execute_result"
    }
   ],
   "source": [
    "validation_data = {}\n",
    "test_data = {}\n",
    "error_data = {}\n",
    "\n",
    "for city, file_path in validation_paths.items():\n",
    "    validation_data[city] = pd.read_csv(file_path).loc[120:141]\n",
    "    \n",
    "print(validation_data['Bergen'].head())\n",
    "print('---------------------------------')\n",
    "\n",
    "for city, file_path in test_paths.items():\n",
    "    test_data[city] = pd.read_csv(file_path).loc[120:141]\n",
    "\n",
    "    error_data[city] = test_data[city]['consumption'] - validation_data[city]['consumption']"
   ]
  },
  {
   "cell_type": "code",
   "execution_count": null,
   "metadata": {},
   "outputs": [],
   "source": []
  }
 ],
 "metadata": {
  "kernelspec": {
   "display_name": "tdt4259",
   "language": "python",
   "name": "python3"
  },
  "language_info": {
   "codemirror_mode": {
    "name": "ipython",
    "version": 3
   },
   "file_extension": ".py",
   "mimetype": "text/x-python",
   "name": "python",
   "nbconvert_exporter": "python",
   "pygments_lexer": "ipython3",
   "version": "3.10.13"
  }
 },
 "nbformat": 4,
 "nbformat_minor": 2
}
